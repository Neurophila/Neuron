{
 "cells": [
  {
   "cell_type": "code",
   "execution_count": null,
   "id": "89c47116",
   "metadata": {},
   "outputs": [],
   "source": [
    "8646911355090150923\n",
    "\n",
    "\n",
    "import os\n",
    "from meshparty import trimesh_io, trimesh_vtk\n",
    "from caveclient import CAVEclient\n",
    "client = CAVEclient('minnie65_public')\n",
    "\n",
    "mm = trimesh_io.MeshMeta(\n",
    "  cv_path=client.info.segmentation_source(),\n",
    "  disk_cache_path=\"meshes\",\n",
    ")\n",
    "\n",
    "root_id = 864691135014128278\n",
    "mesh = mm.mesh(seg_id=root_id)"
   ]
  },
  {
   "cell_type": "code",
   "execution_count": null,
   "id": "fc3b23f5",
   "metadata": {},
   "outputs": [],
   "source": [
    "mesh_actor = trimesh_vtk.mesh_actor(\n",
    "  mesh,\n",
    "  color=(1,0,0),\n",
    "  opacity=0.5,\n",
    ")\n",
    "trimesh_vtk.render_actors([mesh_actor])"
   ]
  },
  {
   "cell_type": "code",
   "execution_count": null,
   "id": "a12aa92b",
   "metadata": {},
   "outputs": [],
   "source": [
    "from caveclient import CAVEclient\n",
    "client = CAVEclient('minnie65_public')\n",
    "client.materialize.get_tables()"
   ]
  },
  {
   "cell_type": "code",
   "execution_count": null,
   "id": "b2d0739b",
   "metadata": {},
   "outputs": [],
   "source": [
    "import cloudvolume\n",
    "import os\n",
    "from meshparty import trimesh_io, trimesh_vtk\n",
    "# this can be used to initialize a cloudvolume object\n",
    "cv = cloudvolume.CloudVolume(client.info.segmentation_source(),use_https=True, progress=True)\n",
    "# which, given a root_id, can be used to get a mesh\n",
    "# cloud volume returns a dictionary with the neuron segment id as the key \n",
    "# and the mesh as the value\n",
    "example_cell_id = 864691135014128278\n",
    "mesh = cv.mesh.get(example_cell_id)[example_cell_id]\n",
    "# GOOGLE_APPLICATION_CREDENTIALS=\"$HOME/.config/gcloud/legacy_credentials/$YOUR_GMAIL/adc.json\"\n",
    "mesh_actor = trimesh_vtk.mesh_actor(\n",
    "  mesh,\n",
    "  color=(1,0,0),\n",
    "  opacity=0.5,\n",
    ")\n",
    "trimesh_vtk.render_actors([mesh_actor])"
   ]
  },
  {
   "cell_type": "code",
   "execution_count": null,
   "id": "f0cb13c5",
   "metadata": {},
   "outputs": [],
   "source": [
    "client.materialize.get_table_metadata('proofreading_status_public_release')"
   ]
  },
  {
   "cell_type": "code",
   "execution_count": null,
   "id": "83a32071",
   "metadata": {},
   "outputs": [],
   "source": [
    "mesh = cv.mesh.get(example_cell_id)[example_cell_id]\n",
    "mesh"
   ]
  },
  {
   "cell_type": "code",
   "execution_count": null,
   "id": "3caf35bb",
   "metadata": {},
   "outputs": [],
   "source": []
  }
 ],
 "metadata": {
  "kernelspec": {
   "display_name": "Python 3 (ipykernel)",
   "language": "python",
   "name": "python3"
  },
  "language_info": {
   "codemirror_mode": {
    "name": "ipython",
    "version": 3
   },
   "file_extension": ".py",
   "mimetype": "text/x-python",
   "name": "python",
   "nbconvert_exporter": "python",
   "pygments_lexer": "ipython3",
   "version": "3.11.7"
  }
 },
 "nbformat": 4,
 "nbformat_minor": 5
}
